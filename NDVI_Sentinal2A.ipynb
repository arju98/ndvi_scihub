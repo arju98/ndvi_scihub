{
 "cells": [
  {
   "cell_type": "code",
   "execution_count": 3,
   "metadata": {},
   "outputs": [],
   "source": [
    "from osgeo import gdal\n",
    "from datetime import date\n",
    "import rasterio\n",
    "import geopandas as gpd\n",
    "import folium\n",
    "from sentinelsat.sentinel import SentinelAPI\n",
    "import numpy as np\n"
   ]
  },
  {
   "cell_type": "code",
   "execution_count": 43,
   "metadata": {},
   "outputs": [
    {
     "data": {
      "text/plain": [
       "<folium.features.GeoJson at 0x21c2bc40df0>"
      ]
     },
     "execution_count": 43,
     "metadata": {},
     "output_type": "execute_result"
    }
   ],
   "source": [
    "#read any AOI.json\n",
    "\n",
    "shapefile = gpd.read_file(r'aoi.geojson') #path to geojson file\n",
    "shp_json = shapefile.to_json()\n",
    "aoi = None\n",
    "for i in shapefile['geometry']:\n",
    "    aoi = i\n",
    "Map = folium.Map([17.68,83.21],zoom_start=8)\n",
    "folium.GeoJson(shapefile).add_to(Map)\n",
    "#Map"
   ]
  },
  {
   "cell_type": "code",
   "execution_count": 5,
   "metadata": {},
   "outputs": [
    {
     "ename": "ServerError",
     "evalue": "HTTP status 500: \n# HTTP Status 500 – Internal Server Error\n\n* * *\n\n **Type** Exception Report\n\n **Message** Request processing failed; nested exception is\njava.lang.IllegalArgumentException: Invalid characters (CR/LF) in header\ncause-message\n\n **Description** The server encountered an unexpected condition that prevented\nit from fulfilling the request.\n\n **Exception**\n\n    \n    \n    org.springframework.web.util.NestedServletException: Request processing failed; nested exception is java.lang.IllegalArgumentException: Invalid characters (CR/LF) in header cause-message\n    \torg.springframework.web.servlet.FrameworkServlet.processRequest(FrameworkServlet.java:1014)\n    \torg.springframework.web.servlet.FrameworkServlet.doGet(FrameworkServlet.java:898)\n    \tjavax.servlet.http.HttpServlet.service(HttpServlet.java:634)\n    \torg.springframework.web.servlet.FrameworkServlet.service(FrameworkServlet.java:883)\n    \tjavax.servlet.http.HttpServlet.service(HttpServlet.java:741)\n    \tfr.gael.dhus.spring.CacheControlFilter.doFilter(CacheControlFilter.java:47)\n    \torg.springframework.security.web.FilterChainProxy$VirtualFilterChain.doFilter(FilterChainProxy.java:320)\n    \torg.springframework.security.web.access.intercept.FilterSecurityInterceptor.invoke(FilterSecurityInterceptor.java:126)\n    \torg.springframework.security.web.access.intercept.FilterSecurityInterceptor.doFilter(FilterSecurityInterceptor.java:90)\n    \torg.springframework.security.web.FilterChainProxy$VirtualFilterChain.doFilter(FilterChainProxy.java:334)\n    \torg.springframework.security.web.access.ExceptionTranslationFilter.doFilter(ExceptionTranslationFilter.java:118)\n    \torg.springframework.security.web.FilterChainProxy$VirtualFilterChain.doFilter(FilterChainProxy.java:334)\n    \torg.springframework.security.web.authentication.AnonymousAuthenticationFilter.doFilter(AnonymousAuthenticationFilter.java:111)\n    \torg.springframework.security.web.FilterChainProxy$VirtualFilterChain.doFilter(FilterChainProxy.java:334)\n    \torg.springframework.security.web.servletapi.SecurityContextHolderAwareRequestFilter.doFilter(SecurityContextHolderAwareRequestFilter.java:158)\n    \torg.springframework.security.web.FilterChainProxy$VirtualFilterChain.doFilter(FilterChainProxy.java:334)\n    \torg.springframework.security.web.savedrequest.RequestCacheAwareFilter.doFilter(RequestCacheAwareFilter.java:63)\n    \torg.springframework.security.web.FilterChainProxy$VirtualFilterChain.doFilter(FilterChainProxy.java:334)\n    \torg.springframework.security.web.authentication.www.BasicAuthenticationFilter.doFilterInternal(BasicAuthenticationFilter.java:203)\n    \torg.springframework.web.filter.OncePerRequestFilter.doFilter(OncePerRequestFilter.java:119)\n    \torg.springframework.security.web.FilterChainProxy$VirtualFilterChain.doFilter(FilterChainProxy.java:334)\n    \tfr.gael.dhus.spring.security.filter.GDPRAuthFilter.doFilter(GDPRAuthFilter.java:185)\n    \torg.springframework.security.web.FilterChainProxy$VirtualFilterChain.doFilter(FilterChainProxy.java:334)\n    \tfr.gael.dhus.spring.security.filter.PreAuthFilter.doFilter(PreAuthFilter.java:125)\n    \torg.springframework.security.web.FilterChainProxy$VirtualFilterChain.doFilter(FilterChainProxy.java:334)\n    \torg.springframework.security.web.header.HeaderWriterFilter.doHeadersAfter(HeaderWriterFilter.java:92)\n    \torg.springframework.security.web.header.HeaderWriterFilter.doFilterInternal(HeaderWriterFilter.java:77)\n    \torg.springframework.web.filter.OncePerRequestFilter.doFilter(OncePerRequestFilter.java:119)\n    \torg.springframework.security.web.FilterChainProxy$VirtualFilterChain.doFilter(FilterChainProxy.java:334)\n    \torg.springframework.security.web.context.request.async.WebAsyncManagerIntegrationFilter.doFilterInternal(WebAsyncManagerIntegrationFilter.java:56)\n    \torg.springframework.web.filter.OncePerRequestFilter.doFilter(OncePerRequestFilter.java:119)\n    \torg.springframework.security.web.FilterChainProxy$VirtualFilterChain.doFilter(FilterChainProxy.java:334)\n    \torg.springframework.security.web.context.SecurityContextPersistenceFilter.doFilter(SecurityContextPersistenceFilter.java:105)\n    \torg.springframework.security.web.FilterChainProxy$VirtualFilterChain.doFilter(FilterChainProxy.java:334)\n    \torg.springframework.security.web.FilterChainProxy.doFilterInternal(FilterChainProxy.java:215)\n    \torg.springframework.security.web.FilterChainProxy.doFilter(FilterChainProxy.java:178)\n    \torg.springframework.web.filter.DelegatingFilterProxy.invokeDelegate(DelegatingFilterProxy.java:358)\n    \torg.springframework.web.filter.DelegatingFilterProxy.doFilter(DelegatingFilterProxy.java:271)\n    \n\n**Root Cause**\n\n    \n    \n    java.lang.IllegalArgumentException: Invalid characters (CR/LF) in header cause-message\n    \torg.springframework.security.web.firewall.FirewalledResponse.validateCrlf(FirewalledResponse.java:72)\n    \torg.springframework.security.web.firewall.FirewalledResponse.addHeader(FirewalledResponse.java:54)\n    \tjavax.servlet.http.HttpServletResponseWrapper.addHeader(HttpServletResponseWrapper.java:174)\n    \torg.springframework.security.web.util.OnCommittedResponseWrapper.addHeader(OnCommittedResponseWrapper.java:63)\n    \tjavax.servlet.http.HttpServletResponseWrapper.addHeader(HttpServletResponseWrapper.java:174)\n    \torg.springframework.security.web.util.OnCommittedResponseWrapper.addHeader(OnCommittedResponseWrapper.java:63)\n    \tfr.gael.dhus.server.http.webapp.search.controller.SearchController.search(SearchController.java:255)\n    \tfr.gael.dhus.server.http.webapp.search.controller.SearchController$$FastClassBySpringCGLIB$$e2477ad5.invoke(<generated>)\n    \torg.springframework.cglib.proxy.MethodProxy.invoke(MethodProxy.java:218)\n    \torg.springframework.aop.framework.CglibAopProxy$CglibMethodInvocation.invokeJoinpoint(CglibAopProxy.java:769)\n    \torg.springframework.aop.framework.ReflectiveMethodInvocation.proceed(ReflectiveMethodInvocation.java:163)\n    \torg.springframework.aop.framework.CglibAopProxy$CglibMethodInvocation.proceed(CglibAopProxy.java:747)\n    \torg.springframework.security.access.intercept.aopalliance.MethodSecurityInterceptor.invoke(MethodSecurityInterceptor.java:69)\n    \torg.springframework.aop.framework.ReflectiveMethodInvocation.proceed(ReflectiveMethodInvocation.java:186)\n    \torg.springframework.aop.framework.CglibAopProxy$CglibMethodInvocation.proceed(CglibAopProxy.java:747)\n    \torg.springframework.aop.framework.CglibAopProxy$DynamicAdvisedInterceptor.intercept(CglibAopProxy.java:689)\n    \tfr.gael.dhus.server.http.webapp.search.controller.SearchController$$EnhancerBySpringCGLIB$$4aeccdd8.search(<generated>)\n    \tsun.reflect.GeneratedMethodAccessor549.invoke(Unknown Source)\n    \tsun.reflect.DelegatingMethodAccessorImpl.invoke(DelegatingMethodAccessorImpl.java:43)\n    \tjava.lang.reflect.Method.invoke(Method.java:498)\n    \torg.springframework.web.method.support.InvocableHandlerMethod.doInvoke(InvocableHandlerMethod.java:190)\n    \torg.springframework.web.method.support.InvocableHandlerMethod.invokeForRequest(InvocableHandlerMethod.java:138)\n    \torg.springframework.web.servlet.mvc.method.annotation.ServletInvocableHandlerMethod.invokeAndHandle(ServletInvocableHandlerMethod.java:106)\n    \torg.springframework.web.servlet.mvc.method.annotation.RequestMappingHandlerAdapter.invokeHandlerMethod(RequestMappingHandlerAdapter.java:888)\n    \torg.springframework.web.servlet.mvc.method.annotation.RequestMappingHandlerAdapter.handleInternal(RequestMappingHandlerAdapter.java:793)\n    \torg.springframework.web.servlet.mvc.method.AbstractHandlerMethodAdapter.handle(AbstractHandlerMethodAdapter.java:87)\n    \torg.springframework.web.servlet.DispatcherServlet.doDispatch(DispatcherServlet.java:1040)\n    \torg.springframework.web.servlet.DispatcherServlet.doService(DispatcherServlet.java:943)\n    \torg.springframework.web.servlet.FrameworkServlet.processRequest(FrameworkServlet.java:1006)\n    \torg.springframework.web.servlet.FrameworkServlet.doGet(FrameworkServlet.java:898)\n    \tjavax.servlet.http.HttpServlet.service(HttpServlet.java:634)\n    \torg.springframework.web.servlet.FrameworkServlet.service(FrameworkServlet.java:883)\n    \tjavax.servlet.http.HttpServlet.service(HttpServlet.java:741)\n    \tfr.gael.dhus.spring.CacheControlFilter.doFilter(CacheControlFilter.java:47)\n    \torg.springframework.security.web.FilterChainProxy$VirtualFilterChain.doFilter(FilterChainProxy.java:320)\n    \torg.springframework.security.web.access.intercept.FilterSecurityInterceptor.invoke(FilterSecurityInterceptor.java:126)\n    \torg.springframework.security.web.access.intercept.FilterSecurityInterceptor.doFilter(FilterSecurityInterceptor.java:90)\n    \torg.springframework.security.web.FilterChainProxy$VirtualFilterChain.doFilter(FilterChainProxy.java:334)\n    \torg.springframework.security.web.access.ExceptionTranslationFilter.doFilter(ExceptionTranslationFilter.java:118)\n    \torg.springframework.security.web.FilterChainProxy$VirtualFilterChain.doFilter(FilterChainProxy.java:334)\n    \torg.springframework.security.web.authentication.AnonymousAuthenticationFilter.doFilter(AnonymousAuthenticationFilter.java:111)\n    \torg.springframework.security.web.FilterChainProxy$VirtualFilterChain.doFilter(FilterChainProxy.java:334)\n    \torg.springframework.security.web.servletapi.SecurityContextHolderAwareRequestFilter.doFilter(SecurityContextHolderAwareRequestFilter.java:158)\n    \torg.springframework.security.web.FilterChainProxy$VirtualFilterChain.doFilter(FilterChainProxy.java:334)\n    \torg.springframework.security.web.savedrequest.RequestCacheAwareFilter.doFilter(RequestCacheAwareFilter.java:63)\n    \torg.springframework.security.web.FilterChainProxy$VirtualFilterChain.doFilter(FilterChainProxy.java:334)\n    \torg.springframework.security.web.authentication.www.BasicAuthenticationFilter.doFilterInternal(BasicAuthenticationFilter.java:203)\n    \torg.springframework.web.filter.OncePerRequestFilter.doFilter(OncePerRequestFilter.java:119)\n    \torg.springframework.security.web.FilterChainProxy$VirtualFilterChain.doFilter(FilterChainProxy.java:334)\n    \tfr.gael.dhus.spring.security.filter.GDPRAuthFilter.doFilter(GDPRAuthFilter.java:185)\n    \torg.springframework.security.web.FilterChainProxy$VirtualFilterChain.doFilter(FilterChainProxy.java:334)\n    \tfr.gael.dhus.spring.security.filter.PreAuthFilter.doFilter(PreAuthFilter.java:125)\n    \torg.springframework.security.web.FilterChainProxy$VirtualFilterChain.doFilter(FilterChainProxy.java:334)\n    \torg.springframework.security.web.header.HeaderWriterFilter.doHeadersAfter(HeaderWriterFilter.java:92)\n    \torg.springframework.security.web.header.HeaderWriterFilter.doFilterInternal(HeaderWriterFilter.java:77)\n    \torg.springframework.web.filter.OncePerRequestFilter.doFilter(OncePerRequestFilter.java:119)\n    \torg.springframework.security.web.FilterChainProxy$VirtualFilterChain.doFilter(FilterChainProxy.java:334)\n    \torg.springframework.security.web.context.request.async.WebAsyncManagerIntegrationFilter.doFilterInternal(WebAsyncManagerIntegrationFilter.java:56)\n    \torg.springframework.web.filter.OncePerRequestFilter.doFilter(OncePerRequestFilter.java:119)\n    \torg.springframework.security.web.FilterChainProxy$VirtualFilterChain.doFilter(FilterChainProxy.java:334)\n    \torg.springframework.security.web.context.SecurityContextPersistenceFilter.doFilter(SecurityContextPersistenceFilter.java:105)\n    \torg.springframework.security.web.FilterChainProxy$VirtualFilterChain.doFilter(FilterChainProxy.java:334)\n    \torg.springframework.security.web.FilterChainProxy.doFilterInternal(FilterChainProxy.java:215)\n    \torg.springframework.security.web.FilterChainProxy.doFilter(FilterChainProxy.java:178)\n    \torg.springframework.web.filter.DelegatingFilterProxy.invokeDelegate(DelegatingFilterProxy.java:358)\n    \torg.springframework.web.filter.DelegatingFilterProxy.doFilter(DelegatingFilterProxy.java:271)\n    \n\n**Note** The full stack trace of the root cause is available in the server\nlogs.\n\n* * *\n\n### Apache Tomcat/8.5.42",
     "output_type": "error",
     "traceback": [
      "\u001b[1;31m---------------------------------------------------------------------------\u001b[0m",
      "\u001b[1;31mHTTPError\u001b[0m                                 Traceback (most recent call last)",
      "\u001b[1;32mc:\\Users\\Arjun\\anaconda3\\envs\\pygdal\\lib\\site-packages\\sentinelsat\\sentinel.py\u001b[0m in \u001b[0;36m_check_scihub_response\u001b[1;34m(response, test_json, query_string)\u001b[0m\n\u001b[0;32m   1016\u001b[0m         \u001b[1;32mtry\u001b[0m\u001b[1;33m:\u001b[0m\u001b[1;33m\u001b[0m\u001b[1;33m\u001b[0m\u001b[0m\n\u001b[1;32m-> 1017\u001b[1;33m             \u001b[0mresponse\u001b[0m\u001b[1;33m.\u001b[0m\u001b[0mraise_for_status\u001b[0m\u001b[1;33m(\u001b[0m\u001b[1;33m)\u001b[0m\u001b[1;33m\u001b[0m\u001b[1;33m\u001b[0m\u001b[0m\n\u001b[0m\u001b[0;32m   1018\u001b[0m             \u001b[1;32mif\u001b[0m \u001b[0mtest_json\u001b[0m\u001b[1;33m:\u001b[0m\u001b[1;33m\u001b[0m\u001b[1;33m\u001b[0m\u001b[0m\n",
      "\u001b[1;32mc:\\Users\\Arjun\\anaconda3\\envs\\pygdal\\lib\\site-packages\\requests\\models.py\u001b[0m in \u001b[0;36mraise_for_status\u001b[1;34m(self)\u001b[0m\n\u001b[0;32m   1020\u001b[0m         \u001b[1;32mif\u001b[0m \u001b[0mhttp_error_msg\u001b[0m\u001b[1;33m:\u001b[0m\u001b[1;33m\u001b[0m\u001b[1;33m\u001b[0m\u001b[0m\n\u001b[1;32m-> 1021\u001b[1;33m             \u001b[1;32mraise\u001b[0m \u001b[0mHTTPError\u001b[0m\u001b[1;33m(\u001b[0m\u001b[0mhttp_error_msg\u001b[0m\u001b[1;33m,\u001b[0m \u001b[0mresponse\u001b[0m\u001b[1;33m=\u001b[0m\u001b[0mself\u001b[0m\u001b[1;33m)\u001b[0m\u001b[1;33m\u001b[0m\u001b[1;33m\u001b[0m\u001b[0m\n\u001b[0m\u001b[0;32m   1022\u001b[0m \u001b[1;33m\u001b[0m\u001b[0m\n",
      "\u001b[1;31mHTTPError\u001b[0m: 500 Server Error:  for url: https://scihub.copernicus.eu/dhus/search?format=json&rows=100&start=0&q=beginPosition%3A%5B%222022-10-10T00%3A00%3A00Z%22+TO+%222022-10-20T00%3A00%3A00Z%22%5D+cloudcoverpercentage%3A%5B%220%22+TO+%2225%22%5D+platformname%3A%22Sentinel-2%22+footprint%3A%22Intersects%28POLYGON+%28%2882.79194780788134+18.295544280854784%2C+82.79194780788134+17.724379113661342%2C+83.34565000924317+17.724379113661342%2C+83.34565000924317+18.295544280854784%2C+82.79194780788134+18.295544280854784%29%29%29%22",
      "\nDuring handling of the above exception, another exception occurred:\n",
      "\u001b[1;31mServerError\u001b[0m                               Traceback (most recent call last)",
      "\u001b[1;32m~\\AppData\\Local\\Temp\\ipykernel_13064\\3341779345.py\u001b[0m in \u001b[0;36m<module>\u001b[1;34m\u001b[0m\n\u001b[0;32m      5\u001b[0m \u001b[1;33m\u001b[0m\u001b[0m\n\u001b[0;32m      6\u001b[0m \u001b[0msentinal_api\u001b[0m \u001b[1;33m=\u001b[0m \u001b[0mSentinelAPI\u001b[0m\u001b[1;33m(\u001b[0m\u001b[0musername\u001b[0m\u001b[1;33m,\u001b[0m \u001b[0mpassword\u001b[0m\u001b[1;33m,\u001b[0m \u001b[1;34m'https://scihub.copernicus.eu/dhus'\u001b[0m\u001b[1;33m)\u001b[0m\u001b[1;33m\u001b[0m\u001b[1;33m\u001b[0m\u001b[0m\n\u001b[1;32m----> 7\u001b[1;33m sentinal2 = sentinal_api.query(aoi,date=('20221010', date(2022, 10, 20)),\n\u001b[0m\u001b[0;32m      8\u001b[0m                      \u001b[0marea_relation\u001b[0m\u001b[1;33m=\u001b[0m\u001b[1;34m'Intersects'\u001b[0m\u001b[1;33m,\u001b[0m\u001b[1;33m\u001b[0m\u001b[1;33m\u001b[0m\u001b[0m\n\u001b[0;32m      9\u001b[0m                      \u001b[0mplatformname\u001b[0m \u001b[1;33m=\u001b[0m \u001b[1;34m'Sentinel-2'\u001b[0m\u001b[1;33m,\u001b[0m\u001b[1;33m\u001b[0m\u001b[1;33m\u001b[0m\u001b[0m\n",
      "\u001b[1;32mc:\\Users\\Arjun\\anaconda3\\envs\\pygdal\\lib\\site-packages\\sentinelsat\\sentinel.py\u001b[0m in \u001b[0;36mquery\u001b[1;34m(self, area, date, raw, area_relation, order_by, limit, offset, **keywords)\u001b[0m\n\u001b[0;32m    280\u001b[0m         )\n\u001b[0;32m    281\u001b[0m         \u001b[0mformatted_order_by\u001b[0m \u001b[1;33m=\u001b[0m \u001b[0m_format_order_by\u001b[0m\u001b[1;33m(\u001b[0m\u001b[0morder_by\u001b[0m\u001b[1;33m)\u001b[0m\u001b[1;33m\u001b[0m\u001b[1;33m\u001b[0m\u001b[0m\n\u001b[1;32m--> 282\u001b[1;33m         \u001b[0mresponse\u001b[0m\u001b[1;33m,\u001b[0m \u001b[0mcount\u001b[0m \u001b[1;33m=\u001b[0m \u001b[0mself\u001b[0m\u001b[1;33m.\u001b[0m\u001b[0m_load_query\u001b[0m\u001b[1;33m(\u001b[0m\u001b[0mquery\u001b[0m\u001b[1;33m,\u001b[0m \u001b[0mformatted_order_by\u001b[0m\u001b[1;33m,\u001b[0m \u001b[0mlimit\u001b[0m\u001b[1;33m,\u001b[0m \u001b[0moffset\u001b[0m\u001b[1;33m)\u001b[0m\u001b[1;33m\u001b[0m\u001b[1;33m\u001b[0m\u001b[0m\n\u001b[0m\u001b[0;32m    283\u001b[0m         \u001b[0mself\u001b[0m\u001b[1;33m.\u001b[0m\u001b[0mlogger\u001b[0m\u001b[1;33m.\u001b[0m\u001b[0minfo\u001b[0m\u001b[1;33m(\u001b[0m\u001b[1;34mf\"Found {count:,} products\"\u001b[0m\u001b[1;33m)\u001b[0m\u001b[1;33m\u001b[0m\u001b[1;33m\u001b[0m\u001b[0m\n\u001b[0;32m    284\u001b[0m         \u001b[1;32mreturn\u001b[0m \u001b[0m_parse_opensearch_response\u001b[0m\u001b[1;33m(\u001b[0m\u001b[0mresponse\u001b[0m\u001b[1;33m)\u001b[0m\u001b[1;33m\u001b[0m\u001b[1;33m\u001b[0m\u001b[0m\n",
      "\u001b[1;32mc:\\Users\\Arjun\\anaconda3\\envs\\pygdal\\lib\\site-packages\\sentinelsat\\sentinel.py\u001b[0m in \u001b[0;36m_load_query\u001b[1;34m(self, query, order_by, limit, offset)\u001b[0m\n\u001b[0;32m    353\u001b[0m \u001b[1;33m\u001b[0m\u001b[0m\n\u001b[0;32m    354\u001b[0m     \u001b[1;32mdef\u001b[0m \u001b[0m_load_query\u001b[0m\u001b[1;33m(\u001b[0m\u001b[0mself\u001b[0m\u001b[1;33m,\u001b[0m \u001b[0mquery\u001b[0m\u001b[1;33m,\u001b[0m \u001b[0morder_by\u001b[0m\u001b[1;33m=\u001b[0m\u001b[1;32mNone\u001b[0m\u001b[1;33m,\u001b[0m \u001b[0mlimit\u001b[0m\u001b[1;33m=\u001b[0m\u001b[1;32mNone\u001b[0m\u001b[1;33m,\u001b[0m \u001b[0moffset\u001b[0m\u001b[1;33m=\u001b[0m\u001b[1;36m0\u001b[0m\u001b[1;33m)\u001b[0m\u001b[1;33m:\u001b[0m\u001b[1;33m\u001b[0m\u001b[1;33m\u001b[0m\u001b[0m\n\u001b[1;32m--> 355\u001b[1;33m         \u001b[0mproducts\u001b[0m\u001b[1;33m,\u001b[0m \u001b[0mcount\u001b[0m \u001b[1;33m=\u001b[0m \u001b[0mself\u001b[0m\u001b[1;33m.\u001b[0m\u001b[0m_load_subquery\u001b[0m\u001b[1;33m(\u001b[0m\u001b[0mquery\u001b[0m\u001b[1;33m,\u001b[0m \u001b[0morder_by\u001b[0m\u001b[1;33m,\u001b[0m \u001b[0mlimit\u001b[0m\u001b[1;33m,\u001b[0m \u001b[0moffset\u001b[0m\u001b[1;33m)\u001b[0m\u001b[1;33m\u001b[0m\u001b[1;33m\u001b[0m\u001b[0m\n\u001b[0m\u001b[0;32m    356\u001b[0m \u001b[1;33m\u001b[0m\u001b[0m\n\u001b[0;32m    357\u001b[0m         \u001b[1;31m# repeat query until all results have been loaded\u001b[0m\u001b[1;33m\u001b[0m\u001b[1;33m\u001b[0m\u001b[1;33m\u001b[0m\u001b[0m\n",
      "\u001b[1;32mc:\\Users\\Arjun\\anaconda3\\envs\\pygdal\\lib\\site-packages\\sentinelsat\\sentinel.py\u001b[0m in \u001b[0;36m_load_subquery\u001b[1;34m(self, query, order_by, limit, offset)\u001b[0m\n\u001b[0;32m    387\u001b[0m         \u001b[1;32mwith\u001b[0m \u001b[0mself\u001b[0m\u001b[1;33m.\u001b[0m\u001b[0mdl_limit_semaphore\u001b[0m\u001b[1;33m:\u001b[0m\u001b[1;33m\u001b[0m\u001b[1;33m\u001b[0m\u001b[0m\n\u001b[0;32m    388\u001b[0m             \u001b[0mresponse\u001b[0m \u001b[1;33m=\u001b[0m \u001b[0mself\u001b[0m\u001b[1;33m.\u001b[0m\u001b[0msession\u001b[0m\u001b[1;33m.\u001b[0m\u001b[0mget\u001b[0m\u001b[1;33m(\u001b[0m\u001b[0murl\u001b[0m\u001b[1;33m,\u001b[0m \u001b[0mparams\u001b[0m\u001b[1;33m=\u001b[0m\u001b[1;33m{\u001b[0m\u001b[1;34m\"q\"\u001b[0m\u001b[1;33m:\u001b[0m \u001b[0mquery\u001b[0m\u001b[1;33m.\u001b[0m\u001b[0mencode\u001b[0m\u001b[1;33m(\u001b[0m\u001b[1;34m\"latin1\"\u001b[0m\u001b[1;33m)\u001b[0m\u001b[1;33m}\u001b[0m\u001b[1;33m)\u001b[0m\u001b[1;33m\u001b[0m\u001b[1;33m\u001b[0m\u001b[0m\n\u001b[1;32m--> 389\u001b[1;33m         \u001b[0mself\u001b[0m\u001b[1;33m.\u001b[0m\u001b[0m_check_scihub_response\u001b[0m\u001b[1;33m(\u001b[0m\u001b[0mresponse\u001b[0m\u001b[1;33m,\u001b[0m \u001b[0mquery_string\u001b[0m\u001b[1;33m=\u001b[0m\u001b[0mquery\u001b[0m\u001b[1;33m)\u001b[0m\u001b[1;33m\u001b[0m\u001b[1;33m\u001b[0m\u001b[0m\n\u001b[0m\u001b[0;32m    390\u001b[0m \u001b[1;33m\u001b[0m\u001b[0m\n\u001b[0;32m    391\u001b[0m         \u001b[1;31m# store last status code (for testing)\u001b[0m\u001b[1;33m\u001b[0m\u001b[1;33m\u001b[0m\u001b[1;33m\u001b[0m\u001b[0m\n",
      "\u001b[1;32mc:\\Users\\Arjun\\anaconda3\\envs\\pygdal\\lib\\site-packages\\sentinelsat\\sentinel.py\u001b[0m in \u001b[0;36m_check_scihub_response\u001b[1;34m(response, test_json, query_string)\u001b[0m\n\u001b[0;32m   1061\u001b[0m             \u001b[1;32melif\u001b[0m \u001b[1;36m500\u001b[0m \u001b[1;33m<=\u001b[0m \u001b[0mresponse\u001b[0m\u001b[1;33m.\u001b[0m\u001b[0mstatus_code\u001b[0m \u001b[1;33m<\u001b[0m \u001b[1;36m600\u001b[0m \u001b[1;32mor\u001b[0m \u001b[0mmsg\u001b[0m\u001b[1;33m:\u001b[0m\u001b[1;33m\u001b[0m\u001b[1;33m\u001b[0m\u001b[0m\n\u001b[0;32m   1062\u001b[0m                 \u001b[1;31m# 5xx: Server Error\u001b[0m\u001b[1;33m\u001b[0m\u001b[1;33m\u001b[0m\u001b[1;33m\u001b[0m\u001b[0m\n\u001b[1;32m-> 1063\u001b[1;33m                 \u001b[1;32mraise\u001b[0m \u001b[0mServerError\u001b[0m\u001b[1;33m(\u001b[0m\u001b[0mmsg\u001b[0m\u001b[1;33m,\u001b[0m \u001b[0mresponse\u001b[0m\u001b[1;33m)\u001b[0m\u001b[1;33m\u001b[0m\u001b[1;33m\u001b[0m\u001b[0m\n\u001b[0m\u001b[0;32m   1064\u001b[0m             \u001b[1;32melse\u001b[0m\u001b[1;33m:\u001b[0m\u001b[1;33m\u001b[0m\u001b[1;33m\u001b[0m\u001b[0m\n\u001b[0;32m   1065\u001b[0m                 \u001b[1;32mraise\u001b[0m \u001b[0mSentinelAPIError\u001b[0m\u001b[1;33m(\u001b[0m\u001b[0mmsg\u001b[0m\u001b[1;33m,\u001b[0m \u001b[0mresponse\u001b[0m\u001b[1;33m)\u001b[0m\u001b[1;33m\u001b[0m\u001b[1;33m\u001b[0m\u001b[0m\n",
      "\u001b[1;31mServerError\u001b[0m: HTTP status 500: \n# HTTP Status 500 – Internal Server Error\n\n* * *\n\n **Type** Exception Report\n\n **Message** Request processing failed; nested exception is\njava.lang.IllegalArgumentException: Invalid characters (CR/LF) in header\ncause-message\n\n **Description** The server encountered an unexpected condition that prevented\nit from fulfilling the request.\n\n **Exception**\n\n    \n    \n    org.springframework.web.util.NestedServletException: Request processing failed; nested exception is java.lang.IllegalArgumentException: Invalid characters (CR/LF) in header cause-message\n    \torg.springframework.web.servlet.FrameworkServlet.processRequest(FrameworkServlet.java:1014)\n    \torg.springframework.web.servlet.FrameworkServlet.doGet(FrameworkServlet.java:898)\n    \tjavax.servlet.http.HttpServlet.service(HttpServlet.java:634)\n    \torg.springframework.web.servlet.FrameworkServlet.service(FrameworkServlet.java:883)\n    \tjavax.servlet.http.HttpServlet.service(HttpServlet.java:741)\n    \tfr.gael.dhus.spring.CacheControlFilter.doFilter(CacheControlFilter.java:47)\n    \torg.springframework.security.web.FilterChainProxy$VirtualFilterChain.doFilter(FilterChainProxy.java:320)\n    \torg.springframework.security.web.access.intercept.FilterSecurityInterceptor.invoke(FilterSecurityInterceptor.java:126)\n    \torg.springframework.security.web.access.intercept.FilterSecurityInterceptor.doFilter(FilterSecurityInterceptor.java:90)\n    \torg.springframework.security.web.FilterChainProxy$VirtualFilterChain.doFilter(FilterChainProxy.java:334)\n    \torg.springframework.security.web.access.ExceptionTranslationFilter.doFilter(ExceptionTranslationFilter.java:118)\n    \torg.springframework.security.web.FilterChainProxy$VirtualFilterChain.doFilter(FilterChainProxy.java:334)\n    \torg.springframework.security.web.authentication.AnonymousAuthenticationFilter.doFilter(AnonymousAuthenticationFilter.java:111)\n    \torg.springframework.security.web.FilterChainProxy$VirtualFilterChain.doFilter(FilterChainProxy.java:334)\n    \torg.springframework.security.web.servletapi.SecurityContextHolderAwareRequestFilter.doFilter(SecurityContextHolderAwareRequestFilter.java:158)\n    \torg.springframework.security.web.FilterChainProxy$VirtualFilterChain.doFilter(FilterChainProxy.java:334)\n    \torg.springframework.security.web.savedrequest.RequestCacheAwareFilter.doFilter(RequestCacheAwareFilter.java:63)\n    \torg.springframework.security.web.FilterChainProxy$VirtualFilterChain.doFilter(FilterChainProxy.java:334)\n    \torg.springframework.security.web.authentication.www.BasicAuthenticationFilter.doFilterInternal(BasicAuthenticationFilter.java:203)\n    \torg.springframework.web.filter.OncePerRequestFilter.doFilter(OncePerRequestFilter.java:119)\n    \torg.springframework.security.web.FilterChainProxy$VirtualFilterChain.doFilter(FilterChainProxy.java:334)\n    \tfr.gael.dhus.spring.security.filter.GDPRAuthFilter.doFilter(GDPRAuthFilter.java:185)\n    \torg.springframework.security.web.FilterChainProxy$VirtualFilterChain.doFilter(FilterChainProxy.java:334)\n    \tfr.gael.dhus.spring.security.filter.PreAuthFilter.doFilter(PreAuthFilter.java:125)\n    \torg.springframework.security.web.FilterChainProxy$VirtualFilterChain.doFilter(FilterChainProxy.java:334)\n    \torg.springframework.security.web.header.HeaderWriterFilter.doHeadersAfter(HeaderWriterFilter.java:92)\n    \torg.springframework.security.web.header.HeaderWriterFilter.doFilterInternal(HeaderWriterFilter.java:77)\n    \torg.springframework.web.filter.OncePerRequestFilter.doFilter(OncePerRequestFilter.java:119)\n    \torg.springframework.security.web.FilterChainProxy$VirtualFilterChain.doFilter(FilterChainProxy.java:334)\n    \torg.springframework.security.web.context.request.async.WebAsyncManagerIntegrationFilter.doFilterInternal(WebAsyncManagerIntegrationFilter.java:56)\n    \torg.springframework.web.filter.OncePerRequestFilter.doFilter(OncePerRequestFilter.java:119)\n    \torg.springframework.security.web.FilterChainProxy$VirtualFilterChain.doFilter(FilterChainProxy.java:334)\n    \torg.springframework.security.web.context.SecurityContextPersistenceFilter.doFilter(SecurityContextPersistenceFilter.java:105)\n    \torg.springframework.security.web.FilterChainProxy$VirtualFilterChain.doFilter(FilterChainProxy.java:334)\n    \torg.springframework.security.web.FilterChainProxy.doFilterInternal(FilterChainProxy.java:215)\n    \torg.springframework.security.web.FilterChainProxy.doFilter(FilterChainProxy.java:178)\n    \torg.springframework.web.filter.DelegatingFilterProxy.invokeDelegate(DelegatingFilterProxy.java:358)\n    \torg.springframework.web.filter.DelegatingFilterProxy.doFilter(DelegatingFilterProxy.java:271)\n    \n\n**Root Cause**\n\n    \n    \n    java.lang.IllegalArgumentException: Invalid characters (CR/LF) in header cause-message\n    \torg.springframework.security.web.firewall.FirewalledResponse.validateCrlf(FirewalledResponse.java:72)\n    \torg.springframework.security.web.firewall.FirewalledResponse.addHeader(FirewalledResponse.java:54)\n    \tjavax.servlet.http.HttpServletResponseWrapper.addHeader(HttpServletResponseWrapper.java:174)\n    \torg.springframework.security.web.util.OnCommittedResponseWrapper.addHeader(OnCommittedResponseWrapper.java:63)\n    \tjavax.servlet.http.HttpServletResponseWrapper.addHeader(HttpServletResponseWrapper.java:174)\n    \torg.springframework.security.web.util.OnCommittedResponseWrapper.addHeader(OnCommittedResponseWrapper.java:63)\n    \tfr.gael.dhus.server.http.webapp.search.controller.SearchController.search(SearchController.java:255)\n    \tfr.gael.dhus.server.http.webapp.search.controller.SearchController$$FastClassBySpringCGLIB$$e2477ad5.invoke(<generated>)\n    \torg.springframework.cglib.proxy.MethodProxy.invoke(MethodProxy.java:218)\n    \torg.springframework.aop.framework.CglibAopProxy$CglibMethodInvocation.invokeJoinpoint(CglibAopProxy.java:769)\n    \torg.springframework.aop.framework.ReflectiveMethodInvocation.proceed(ReflectiveMethodInvocation.java:163)\n    \torg.springframework.aop.framework.CglibAopProxy$CglibMethodInvocation.proceed(CglibAopProxy.java:747)\n    \torg.springframework.security.access.intercept.aopalliance.MethodSecurityInterceptor.invoke(MethodSecurityInterceptor.java:69)\n    \torg.springframework.aop.framework.ReflectiveMethodInvocation.proceed(ReflectiveMethodInvocation.java:186)\n    \torg.springframework.aop.framework.CglibAopProxy$CglibMethodInvocation.proceed(CglibAopProxy.java:747)\n    \torg.springframework.aop.framework.CglibAopProxy$DynamicAdvisedInterceptor.intercept(CglibAopProxy.java:689)\n    \tfr.gael.dhus.server.http.webapp.search.controller.SearchController$$EnhancerBySpringCGLIB$$4aeccdd8.search(<generated>)\n    \tsun.reflect.GeneratedMethodAccessor549.invoke(Unknown Source)\n    \tsun.reflect.DelegatingMethodAccessorImpl.invoke(DelegatingMethodAccessorImpl.java:43)\n    \tjava.lang.reflect.Method.invoke(Method.java:498)\n    \torg.springframework.web.method.support.InvocableHandlerMethod.doInvoke(InvocableHandlerMethod.java:190)\n    \torg.springframework.web.method.support.InvocableHandlerMethod.invokeForRequest(InvocableHandlerMethod.java:138)\n    \torg.springframework.web.servlet.mvc.method.annotation.ServletInvocableHandlerMethod.invokeAndHandle(ServletInvocableHandlerMethod.java:106)\n    \torg.springframework.web.servlet.mvc.method.annotation.RequestMappingHandlerAdapter.invokeHandlerMethod(RequestMappingHandlerAdapter.java:888)\n    \torg.springframework.web.servlet.mvc.method.annotation.RequestMappingHandlerAdapter.handleInternal(RequestMappingHandlerAdapter.java:793)\n    \torg.springframework.web.servlet.mvc.method.AbstractHandlerMethodAdapter.handle(AbstractHandlerMethodAdapter.java:87)\n    \torg.springframework.web.servlet.DispatcherServlet.doDispatch(DispatcherServlet.java:1040)\n    \torg.springframework.web.servlet.DispatcherServlet.doService(DispatcherServlet.java:943)\n    \torg.springframework.web.servlet.FrameworkServlet.processRequest(FrameworkServlet.java:1006)\n    \torg.springframework.web.servlet.FrameworkServlet.doGet(FrameworkServlet.java:898)\n    \tjavax.servlet.http.HttpServlet.service(HttpServlet.java:634)\n    \torg.springframework.web.servlet.FrameworkServlet.service(FrameworkServlet.java:883)\n    \tjavax.servlet.http.HttpServlet.service(HttpServlet.java:741)\n    \tfr.gael.dhus.spring.CacheControlFilter.doFilter(CacheControlFilter.java:47)\n    \torg.springframework.security.web.FilterChainProxy$VirtualFilterChain.doFilter(FilterChainProxy.java:320)\n    \torg.springframework.security.web.access.intercept.FilterSecurityInterceptor.invoke(FilterSecurityInterceptor.java:126)\n    \torg.springframework.security.web.access.intercept.FilterSecurityInterceptor.doFilter(FilterSecurityInterceptor.java:90)\n    \torg.springframework.security.web.FilterChainProxy$VirtualFilterChain.doFilter(FilterChainProxy.java:334)\n    \torg.springframework.security.web.access.ExceptionTranslationFilter.doFilter(ExceptionTranslationFilter.java:118)\n    \torg.springframework.security.web.FilterChainProxy$VirtualFilterChain.doFilter(FilterChainProxy.java:334)\n    \torg.springframework.security.web.authentication.AnonymousAuthenticationFilter.doFilter(AnonymousAuthenticationFilter.java:111)\n    \torg.springframework.security.web.FilterChainProxy$VirtualFilterChain.doFilter(FilterChainProxy.java:334)\n    \torg.springframework.security.web.servletapi.SecurityContextHolderAwareRequestFilter.doFilter(SecurityContextHolderAwareRequestFilter.java:158)\n    \torg.springframework.security.web.FilterChainProxy$VirtualFilterChain.doFilter(FilterChainProxy.java:334)\n    \torg.springframework.security.web.savedrequest.RequestCacheAwareFilter.doFilter(RequestCacheAwareFilter.java:63)\n    \torg.springframework.security.web.FilterChainProxy$VirtualFilterChain.doFilter(FilterChainProxy.java:334)\n    \torg.springframework.security.web.authentication.www.BasicAuthenticationFilter.doFilterInternal(BasicAuthenticationFilter.java:203)\n    \torg.springframework.web.filter.OncePerRequestFilter.doFilter(OncePerRequestFilter.java:119)\n    \torg.springframework.security.web.FilterChainProxy$VirtualFilterChain.doFilter(FilterChainProxy.java:334)\n    \tfr.gael.dhus.spring.security.filter.GDPRAuthFilter.doFilter(GDPRAuthFilter.java:185)\n    \torg.springframework.security.web.FilterChainProxy$VirtualFilterChain.doFilter(FilterChainProxy.java:334)\n    \tfr.gael.dhus.spring.security.filter.PreAuthFilter.doFilter(PreAuthFilter.java:125)\n    \torg.springframework.security.web.FilterChainProxy$VirtualFilterChain.doFilter(FilterChainProxy.java:334)\n    \torg.springframework.security.web.header.HeaderWriterFilter.doHeadersAfter(HeaderWriterFilter.java:92)\n    \torg.springframework.security.web.header.HeaderWriterFilter.doFilterInternal(HeaderWriterFilter.java:77)\n    \torg.springframework.web.filter.OncePerRequestFilter.doFilter(OncePerRequestFilter.java:119)\n    \torg.springframework.security.web.FilterChainProxy$VirtualFilterChain.doFilter(FilterChainProxy.java:334)\n    \torg.springframework.security.web.context.request.async.WebAsyncManagerIntegrationFilter.doFilterInternal(WebAsyncManagerIntegrationFilter.java:56)\n    \torg.springframework.web.filter.OncePerRequestFilter.doFilter(OncePerRequestFilter.java:119)\n    \torg.springframework.security.web.FilterChainProxy$VirtualFilterChain.doFilter(FilterChainProxy.java:334)\n    \torg.springframework.security.web.context.SecurityContextPersistenceFilter.doFilter(SecurityContextPersistenceFilter.java:105)\n    \torg.springframework.security.web.FilterChainProxy$VirtualFilterChain.doFilter(FilterChainProxy.java:334)\n    \torg.springframework.security.web.FilterChainProxy.doFilterInternal(FilterChainProxy.java:215)\n    \torg.springframework.security.web.FilterChainProxy.doFilter(FilterChainProxy.java:178)\n    \torg.springframework.web.filter.DelegatingFilterProxy.invokeDelegate(DelegatingFilterProxy.java:358)\n    \torg.springframework.web.filter.DelegatingFilterProxy.doFilter(DelegatingFilterProxy.java:271)\n    \n\n**Note** The full stack trace of the root cause is available in the server\nlogs.\n\n* * *\n\n### Apache Tomcat/8.5.42"
     ]
    }
   ],
   "source": [
    "#Connection to Scihub API for Raster Image\n",
    "\n",
    "username = #myEOusername\n",
    "password = #EOpassword\n",
    "\n",
    "sentinal_api = SentinelAPI(username, password, 'https://scihub.copernicus.eu/dhus')\n",
    "sentinal2 = sentinal_api.query(aoi,date=('20221010', date(2022, 10, 20)),\n",
    "                     area_relation='Intersects',\n",
    "                     platformname = 'Sentinel-2',\n",
    "                     cloudcoverpercentage = (0, 25))\n",
    "print (\"API Passed!\")"
   ]
  },
  {
   "cell_type": "code",
   "execution_count": null,
   "metadata": {},
   "outputs": [],
   "source": [
    "raster_collection = list(sentinal2.items())\n",
    "raster_id = raster_collection[0][0]\n",
    "product_info = sentinal_api.get_product_odata(raster_id)\n",
    "if(product_info['Online']==True):\n",
    "    print(\"Product is online: Preparing to download\")\n",
    "    #sentinal_api.download(raster_id)\n",
    "else:\n",
    "    print(\"Product is offline: Retry with offline archieve\")"
   ]
  },
  {
   "cell_type": "code",
   "execution_count": 6,
   "metadata": {},
   "outputs": [],
   "source": [
    "s2_bands = r'E:\\MyGIS\\Ekatvam\\GIS-Algo\\LULC\\NDVI_test\\S2A_MSIL2A_20221019T044811_N0400_R076_T44QQF_20221019T073756\\S2A_MSIL2A_20221019T044811_N0400_R076_T44QQF_20221019T073756.SAFE\\GRANULE\\L2A_T44QQF_A038254_20221019T050236\\IMG_DATA\\R10m'\n",
    "red_band = rasterio.open(s2_bands+'\\T44QQF_20221019T044811_B04_10m.jp2') # red band\n",
    "NIR_band = rasterio.open(s2_bands+'\\T44QQF_20221019T044811_B08_10m.jp2') # nir band\n"
   ]
  },
  {
   "cell_type": "code",
   "execution_count": 7,
   "metadata": {},
   "outputs": [],
   "source": [
    "with rasterio.open('NDVI_band.tiff','w',driver='Gtiff', width=red_band.width, height=red_band.height, count=3, crs=red_band.crs,transform=red_band.transform, dtype=red_band.dtypes[0]) as rgb:\n",
    "    rgb.write(red_band.read(1),1) \n",
    "    rgb.write(NIR_band.read(1),2) \n",
    "    rgb.close()"
   ]
  },
  {
   "cell_type": "code",
   "execution_count": 46,
   "metadata": {},
   "outputs": [],
   "source": [
    "output_raster = \"clip_img.tiff\"\n",
    "input_raster = \"NDVI_band.tiff\""
   ]
  },
  {
   "cell_type": "code",
   "execution_count": 47,
   "metadata": {},
   "outputs": [],
   "source": [
    "clip_img = gdal.Warp(output_raster,\n",
    "               input_raster,\n",
    "               cutlineDSName = shp_json,\n",
    "               cutlineLayer = 'extent',\n",
    "               copyMetadata = True,\n",
    "               dstNodata = 0)\n",
    "clip_img = None"
   ]
  },
  {
   "cell_type": "code",
   "execution_count": 57,
   "metadata": {},
   "outputs": [],
   "source": [
    "def NDVI(r,nir):\n",
    "    return ((nir-r)/(nir+r))"
   ]
  },
  {
   "cell_type": "code",
   "execution_count": 54,
   "metadata": {},
   "outputs": [],
   "source": [
    "clip_input = gdal.Open(\"clip_img.tiff\")\n",
    "#nir_b8 = gdal.Open(NIR_band[0])"
   ]
  },
  {
   "cell_type": "code",
   "execution_count": 55,
   "metadata": {},
   "outputs": [],
   "source": [
    "red = clip_input.GetRasterBand(1).ReadAsArray().astype(float)\n",
    "nir = clip_input.GetRasterBand(2).ReadAsArray().astype(float)\n"
   ]
  },
  {
   "cell_type": "code",
   "execution_count": 58,
   "metadata": {},
   "outputs": [],
   "source": [
    "np.seterr(invalid='ignore')\n",
    "ndvi_calc = NDVI(red, nir)"
   ]
  },
  {
   "cell_type": "code",
   "execution_count": 59,
   "metadata": {},
   "outputs": [],
   "source": [
    "x_axis = ndvi_calc.shape[0] \n",
    "y_axis = ndvi_calc.shape[1] \n"
   ]
  },
  {
   "cell_type": "code",
   "execution_count": 66,
   "metadata": {},
   "outputs": [
    {
     "data": {
      "text/plain": [
       "0"
      ]
     },
     "execution_count": 66,
     "metadata": {},
     "output_type": "execute_result"
    }
   ],
   "source": [
    "driver = gdal.GetDriverByName('GTiff')\n",
    "geo = clip_input.GetGeoTransform()  \n",
    "proj = clip_input.GetProjection()\n",
    "ndvi_data = driver.Create(\"Final_NDVI.tiff\",x_axis, y_axis, 1,gdal.GDT_Float32)\n",
    "ndvi_data.SetGeoTransform( geo )\n",
    "ndvi_data.SetProjection( proj )\n",
    "ndvi_data.GetRasterBand(1).WriteArray(ndvi_calc)"
   ]
  },
  {
   "cell_type": "code",
   "execution_count": 77,
   "metadata": {},
   "outputs": [],
   "source": [
    "ndvi_final = gdal.Open(\"Final_NDVI.tiff\")\n",
    "ndvi_final = ndvi_final.GetRasterBand(1).ReadAsArray().astype(float)"
   ]
  },
  {
   "cell_type": "code",
   "execution_count": null,
   "metadata": {},
   "outputs": [],
   "source": [
    "img = folium.raster_layers.ImageOverlay(\n",
    "        image= ndvi_final,\n",
    "        bounds=[[50, -100.], [65., -115.]],\n",
    "        interactive=True,\n",
    "        cross_origin=False,\n",
    "        zindex=1,\n",
    "    )\n",
    "\n",
    "img.add_to(Map)\n",
    "#Map"
   ]
  }
 ],
 "metadata": {
  "kernelspec": {
   "display_name": "Python 3.8.15 ('pygdal')",
   "language": "python",
   "name": "python3"
  },
  "language_info": {
   "codemirror_mode": {
    "name": "ipython",
    "version": 3
   },
   "file_extension": ".py",
   "mimetype": "text/x-python",
   "name": "python",
   "nbconvert_exporter": "python",
   "pygments_lexer": "ipython3",
   "version": "3.8.15"
  },
  "orig_nbformat": 4,
  "vscode": {
   "interpreter": {
    "hash": "9a7179a8820466164d14e5dacf1d51401f8e78aca308e1dd65ac0937ff396556"
   }
  }
 },
 "nbformat": 4,
 "nbformat_minor": 2
}
