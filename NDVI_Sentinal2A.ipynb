{
 "cells": [
  {
   "cell_type": "code",
   "execution_count": null,
   "metadata": {},
   "outputs": [],
   "source": [
    "from osgeo import gdal\n",
    "from datetime import date\n",
    "import rasterio\n",
    "import geopandas as gpd\n",
    "import folium\n",
    "from sentinelsat.sentinel import SentinelAPI\n",
    "import numpy as np\n"
   ]
  },
  {
   "cell_type": "code",
   "execution_count": null,
   "metadata": {},
   "outputs": [],
   "source": [
    "#read any AOI.json\n",
    "\n",
    "shapefile = gpd.read_file(r'aoi.geojson') #path to geojson file\n",
    "shp_json = shapefile.to_json()\n",
    "aoi = None\n",
    "for i in shapefile['geometry']:\n",
    "    aoi = i\n",
    "Map = folium.Map([17.68,83.21],zoom_start=8)\n",
    "folium.GeoJson(shapefile).add_to(Map)\n",
    "#Map"
   ]
  },
  {
   "cell_type": "code",
   "execution_count": null,
   "metadata": {},
   "outputs": [],
   "source": [
    "#Connection to Scihub API for Raster Image\n",
    "\n",
    "username = #myEOusername\n",
    "password = #EOpassword\n",
    "\n",
    "sentinal_api = SentinelAPI(username, password, 'https://scihub.copernicus.eu/dhus')\n",
    "sentinal2 = sentinal_api.query(aoi,date=('20221010', date(2022, 10, 20)),\n",
    "                     area_relation='Intersects',\n",
    "                     platformname = 'Sentinel-2',\n",
    "                     cloudcoverpercentage = (0, 25))\n",
    "print (\"API Passed!\")"
   ]
  },
  {
   "cell_type": "code",
   "execution_count": null,
   "metadata": {},
   "outputs": [],
   "source": [
    "raster_collection = list(sentinal2.items())\n",
    "raster_id = raster_collection[0][0]\n",
    "product_info = sentinal_api.get_product_odata(raster_id)\n",
    "if(product_info['Online']==True):\n",
    "    print(\"Product is online: Preparing to download\")\n",
    "    #sentinal_api.download(raster_id)\n",
    "else:\n",
    "    print(\"Product is offline: Retry with offline archieve\")"
   ]
  },
  {
   "cell_type": "code",
   "execution_count": null,
   "metadata": {},
   "outputs": [],
   "source": [
    "s2_bands = r'E:\\MyGIS\\Ekatvam\\GIS-Algo\\LULC\\NDVI_test\\S2A_MSIL2A_20221019T044811_N0400_R076_T44QQF_20221019T073756\\S2A_MSIL2A_20221019T044811_N0400_R076_T44QQF_20221019T073756.SAFE\\GRANULE\\L2A_T44QQF_A038254_20221019T050236\\IMG_DATA\\R10m'\n",
    "red_band = rasterio.open(s2_bands+'\\T44QQF_20221019T044811_B04_10m.jp2') # red band\n",
    "NIR_band = rasterio.open(s2_bands+'\\T44QQF_20221019T044811_B08_10m.jp2') # nir band\n"
   ]
  },
  {
   "cell_type": "code",
   "execution_count": null,
   "metadata": {},
   "outputs": [],
   "source": [
    "with rasterio.open('NDVI_band.tiff','w',driver='Gtiff', width=red_band.width, height=red_band.height, count=3, crs=red_band.crs,transform=red_band.transform, dtype=red_band.dtypes[0]) as rgb:\n",
    "    rgb.write(red_band.read(1),1) \n",
    "    rgb.write(NIR_band.read(1),2) \n",
    "    rgb.close()"
   ]
  },
  {
   "cell_type": "code",
   "execution_count": null,
   "metadata": {},
   "outputs": [],
   "source": [
    "output_raster = \"clip_img.tiff\"\n",
    "input_raster = \"NDVI_band.tiff\""
   ]
  },
  {
   "cell_type": "code",
   "execution_count": null,
   "metadata": {},
   "outputs": [],
   "source": [
    "clip_img = gdal.Warp(output_raster,\n",
    "               input_raster,\n",
    "               cutlineDSName = shp_json,\n",
    "               cutlineLayer = 'extent',\n",
    "               copyMetadata = True,\n",
    "               dstNodata = 0)\n",
    "clip_img = None"
   ]
  },
  {
   "cell_type": "code",
   "execution_count": null,
   "metadata": {},
   "outputs": [],
   "source": [
    "def NDVI(r,nir):\n",
    "    return ((nir-r)/(nir+r))"
   ]
  },
  {
   "cell_type": "code",
   "execution_count": null,
   "metadata": {},
   "outputs": [],
   "source": [
    "clip_input = gdal.Open(\"clip_img.tiff\")\n",
    "#nir_b8 = gdal.Open(NIR_band[0])"
   ]
  },
  {
   "cell_type": "code",
   "execution_count": null,
   "metadata": {},
   "outputs": [],
   "source": [
    "red = clip_input.GetRasterBand(1).ReadAsArray().astype(float)\n",
    "nir = clip_input.GetRasterBand(2).ReadAsArray().astype(float)\n"
   ]
  },
  {
   "cell_type": "code",
   "execution_count": null,
   "metadata": {},
   "outputs": [],
   "source": [
    "np.seterr(invalid='ignore')\n",
    "ndvi_calc = NDVI(red, nir)"
   ]
  },
  {
   "cell_type": "code",
   "execution_count": null,
   "metadata": {},
   "outputs": [],
   "source": [
    "x_axis = ndvi_calc.shape[0] \n",
    "y_axis = ndvi_calc.shape[1] \n"
   ]
  },
  {
   "cell_type": "code",
   "execution_count": null,
   "metadata": {},
   "outputs": [],
   "source": [
    "driver = gdal.GetDriverByName('GTiff')\n",
    "geo = clip_input.GetGeoTransform()  \n",
    "proj = clip_input.GetProjection()\n",
    "ndvi_data = driver.Create(\"Final_NDVI.tiff\",x_axis, y_axis, 1,gdal.GDT_Float32)\n",
    "ndvi_data.SetGeoTransform( geo )\n",
    "ndvi_data.SetProjection( proj )\n",
    "ndvi_data.GetRasterBand(1).WriteArray(ndvi_calc)"
   ]
  },
  {
   "cell_type": "code",
   "execution_count": null,
   "metadata": {},
   "outputs": [],
   "source": [
    "ndvi_final = gdal.Open(\"Final_NDVI.tiff\")\n",
    "ndvi_final = ndvi_final.GetRasterBand(1).ReadAsArray().astype(float)"
   ]
  },
  {
   "cell_type": "code",
   "execution_count": null,
   "metadata": {},
   "outputs": [],
   "source": [
    "img = folium.raster_layers.ImageOverlay(\n",
    "        image= ndvi_final,\n",
    "        bounds=[[50, -100.], [65., -115.]],\n",
    "        interactive=True,\n",
    "        cross_origin=False,\n",
    "        zindex=1,\n",
    "    )\n",
    "\n",
    "img.add_to(Map)\n",
    "#Map"
   ]
  }
 ],
 "metadata": {
  "kernelspec": {
   "display_name": "Python 3.8.15 ('pygdal')",
   "language": "python",
   "name": "python3"
  },
  "language_info": {
   "codemirror_mode": {
    "name": "ipython",
    "version": 3
   },
   "file_extension": ".py",
   "mimetype": "text/x-python",
   "name": "python",
   "nbconvert_exporter": "python",
   "pygments_lexer": "ipython3",
   "version": "3.8.15"
  },
  "orig_nbformat": 4,
  "vscode": {
   "interpreter": {
    "hash": "9a7179a8820466164d14e5dacf1d51401f8e78aca308e1dd65ac0937ff396556"
   }
  }
 },
 "nbformat": 4,
 "nbformat_minor": 2
}
